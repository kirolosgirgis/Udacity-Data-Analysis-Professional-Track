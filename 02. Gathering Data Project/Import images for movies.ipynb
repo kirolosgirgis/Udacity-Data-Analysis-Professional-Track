{
 "cells": [
  {
   "cell_type": "code",
   "execution_count": 1,
   "id": "7deab4b8",
   "metadata": {},
   "outputs": [],
   "source": [
    "import pandas as pd\n",
    "import wptools\n",
    "import os\n",
    "import requests\n",
    "from PIL import Image\n",
    "from io import BytesIO"
   ]
  },
  {
   "cell_type": "code",
   "execution_count": 2,
   "id": "d916e8d8",
   "metadata": {},
   "outputs": [],
   "source": [
    "title_list_1 = [\n",
    " 'The_Wizard_of_Oz_(1939_film)',\n",
    " 'Citizen_Kane',\n",
    " 'The_Third_Man',\n",
    " 'Get_Out_(film)',\n",
    " 'Mad_Max:_Fury_Road',\n",
    " 'The_Cabinet_of_Dr._Caligari',\n",
    " 'All_About_Eve',\n",
    " 'Inside_Out_(2015_film)',\n",
    " 'The_Godfather',\n",
    " 'Metropolis_(1927_film)',\n",
    " 'E.T._the_Extra-Terrestrial',\n",
    " 'Modern_Times_(film)',\n",
    " 'It_Happened_One_Night',\n",
    " \"Singin'_in_the_Rain\",\n",
    " 'Boyhood_(film)',\n",
    " 'Casablanca_(film)',\n",
    " 'Moonlight_(2016_film)',\n",
    " 'Psycho_(1960_film)',\n",
    " 'Laura_(1944_film)',\n",
    " 'Nosferatu',\n",
    " 'Snow_White_and_the_Seven_Dwarfs_(1937_film)',\n",
    " \"A_Hard_Day%27s_Night_(film)\",\n",
    " 'La_Grande_Illusion',\n",
    " 'North_by_Northwest',\n",
    " 'The_Battle_of_Algiers',\n",
    " 'Dunkirk_(2017_film)',\n",
    " 'The_Maltese_Falcon_(1941_film)',\n",
    " 'Repulsion_(film)',\n",
    " '12_Years_a_Slave_(film)',\n",
    " 'Gravity_(2013_film)',\n",
    " 'Sunset_Boulevard_(film)',\n",
    " 'King_Kong_(1933_film)',\n",
    " 'Spotlight_(film)',\n",
    " 'The_Adventures_of_Robin_Hood',\n",
    " 'Rashomon',\n",
    " 'Rear_Window',\n",
    " 'Selma_(film)',\n",
    " 'Taxi_Driver',\n",
    " 'Toy_Story_3',\n",
    " 'Argo_(2012_film)',\n",
    " 'Toy_Story_2',\n",
    " 'The_Big_Sick',\n",
    " 'Bride_of_Frankenstein',\n",
    " 'Zootopia',\n",
    " 'M_(1931_film)',\n",
    " 'Wonder_Woman_(2017_film)',\n",
    " 'The_Philadelphia_Story_(film)',\n",
    " 'Alien_(film)',\n",
    " 'Bicycle_Thieves',\n",
    " 'Seven_Samurai']"
   ]
  },
  {
   "cell_type": "code",
   "execution_count": 3,
   "id": "3a7b6a54",
   "metadata": {},
   "outputs": [],
   "source": [
    "title_list_2 = [\n",
    "'The_Treasure_of_the_Sierra_Madre_(film)',\n",
    " 'Up_(2009_film)',\n",
    " '12_Angry_Men_(1957_film)',\n",
    " 'The_400_Blows',\n",
    " 'Logan_(film)',\n",
    " 'All_Quiet_on_the_Western_Front_(1930_film)',\n",
    " 'Army_of_Shadows',\n",
    " 'Arrival_(film)',\n",
    " 'Baby_Driver',\n",
    " 'A_Streetcar_Named_Desire_(1951_film)',\n",
    " 'The_Night_of_the_Hunter_(film)',\n",
    " 'Star_Wars:_The_Force_Awakens',\n",
    " 'Manchester_by_the_Sea_(film)',\n",
    " 'Dr._Strangelove',\n",
    " 'Frankenstein_(1931_film)',\n",
    " 'Vertigo_(film)',\n",
    " 'The_Dark_Knight_(film)',\n",
    " 'Touch_of_Evil',\n",
    " 'The_Babadook',\n",
    " 'The_Conformist_(film)',\n",
    " 'Rebecca_(1940_film)',\n",
    " \"Rosemary%27s_Baby_(film)\",\n",
    " 'Finding_Nemo',\n",
    " 'Brooklyn_(film)',\n",
    " 'The_Wrestler_(2008_film)',\n",
    " 'The_39_Steps_(1935_film)',\n",
    " 'L.A._Confidential_(film)',\n",
    " 'Gone_with_the_Wind_(film)',\n",
    " 'The_Good,_the_Bad_and_the_Ugly',\n",
    " 'Skyfall',\n",
    " 'Rome,_Open_City',\n",
    " 'Tokyo_Story',\n",
    " 'Hell_or_High_Water_(film)',\n",
    " 'Pinocchio_(1940_film)',\n",
    " 'The_Jungle_Book_(2016_film)',\n",
    " 'La_La_Land_(film)',\n",
    " 'Star_Trek_(film)',\n",
    " 'High_Noon',\n",
    " 'Apocalypse_Now',\n",
    " 'On_the_Waterfront',\n",
    " 'The_Wages_of_Fear',\n",
    " 'The_Last_Picture_Show',\n",
    " 'Harry_Potter_and_the_Deathly_Hallows_–_Part_2',\n",
    " 'The_Grapes_of_Wrath_(film)',\n",
    " 'Roman_Holiday',\n",
    " 'Man_on_Wire',\n",
    " 'Jaws_(film)',\n",
    " 'Toy_Story',\n",
    " 'The_Godfather_Part_II',\n",
    " 'Battleship_Potemkin']"
   ]
  },
  {
   "cell_type": "code",
   "execution_count": 4,
   "id": "a52b3050",
   "metadata": {},
   "outputs": [],
   "source": [
    "folder_name = 'bestofrt_posters'\n",
    "if not os.path.exists(folder_name):\n",
    "    os.makedirs(folder_name)"
   ]
  },
  {
   "cell_type": "code",
   "execution_count": 5,
   "id": "31f1d00a",
   "metadata": {},
   "outputs": [
    {
     "name": "stdout",
     "output_type": "stream",
     "text": [
      "1\n",
      "https://upload.wikimedia.org/wikipedia/commons/6/69/Wizard_of_oz_movie_poster.jpg\n",
      "200\n",
      "image/jpeg\n",
      "None\n",
      "2\n",
      "https://upload.wikimedia.org/wikipedia/commons/c/c0/Citizen_Kane_poster%2C_1941_%28Style_B%2C_unrestored%29.jpg\n",
      "403\n",
      "text/html; charset=utf-8\n",
      "utf-8\n",
      "2_Citizen_Kane: cannot identify image file <_io.BytesIO object at 0x00000251ECFCD0E0>\n",
      "3\n",
      "https://upload.wikimedia.org/wikipedia/commons/7/77/The_Third_Man_%281949_American_theatrical_poster%29.jpg\n",
      "403\n",
      "text/html; charset=utf-8\n",
      "utf-8\n",
      "3_The_Third_Man: cannot identify image file <_io.BytesIO object at 0x00000251F4514F40>\n",
      "4\n",
      "https://upload.wikimedia.org/wikipedia/en/a/a3/Get_Out_poster.png\n",
      "200\n",
      "image/png\n",
      "None\n",
      "5\n",
      "https://upload.wikimedia.org/wikipedia/en/6/6e/Mad_Max_Fury_Road.jpg\n",
      "200\n",
      "image/jpeg\n",
      "None\n",
      "6\n",
      "https://upload.wikimedia.org/wikipedia/en/2/2f/The_Cabinet_of_Dr._Caligari_poster.jpg\n",
      "403\n",
      "text/html; charset=utf-8\n",
      "utf-8\n",
      "6_The_Cabinet_of_Dr._Caligari: cannot identify image file <_io.BytesIO object at 0x00000251F56D7130>\n",
      "7\n"
     ]
    },
    {
     "ename": "KeyboardInterrupt",
     "evalue": "",
     "output_type": "error",
     "traceback": [
      "\u001b[1;31m---------------------------------------------------------------------------\u001b[0m",
      "\u001b[1;31mKeyboardInterrupt\u001b[0m                         Traceback (most recent call last)",
      "Input \u001b[1;32mIn [5]\u001b[0m, in \u001b[0;36m<cell line: 4>\u001b[1;34m()\u001b[0m\n\u001b[0;32m      6\u001b[0m ranking \u001b[38;5;241m=\u001b[39m title_list_1\u001b[38;5;241m.\u001b[39mindex(title) \u001b[38;5;241m+\u001b[39m \u001b[38;5;241m1\u001b[39m\n\u001b[0;32m      7\u001b[0m \u001b[38;5;28mprint\u001b[39m(ranking)\n\u001b[1;32m----> 8\u001b[0m page \u001b[38;5;241m=\u001b[39m \u001b[43mwptools\u001b[49m\u001b[38;5;241;43m.\u001b[39;49m\u001b[43mpage\u001b[49m\u001b[43m(\u001b[49m\u001b[43mtitle\u001b[49m\u001b[43m,\u001b[49m\u001b[43m \u001b[49m\u001b[43msilent\u001b[49m\u001b[38;5;241;43m=\u001b[39;49m\u001b[38;5;28;43;01mTrue\u001b[39;49;00m\u001b[43m)\u001b[49m\u001b[38;5;241;43m.\u001b[39;49m\u001b[43mget\u001b[49m\u001b[43m(\u001b[49m\u001b[43m)\u001b[49m\n\u001b[0;32m      9\u001b[0m \u001b[38;5;66;03m# First image is usually the poster\u001b[39;00m\n\u001b[0;32m     10\u001b[0m images \u001b[38;5;241m=\u001b[39m page\u001b[38;5;241m.\u001b[39mdata[\u001b[38;5;124m'\u001b[39m\u001b[38;5;124mimage\u001b[39m\u001b[38;5;124m'\u001b[39m][\u001b[38;5;241m0\u001b[39m]\n",
      "File \u001b[1;32m~\\anaconda3\\lib\\site-packages\\wptools\\page.py:527\u001b[0m, in \u001b[0;36mWPToolsPage.get\u001b[1;34m(self, show, proxy, timeout)\u001b[0m\n\u001b[0;32m    524\u001b[0m \u001b[38;5;28;01mif\u001b[39;00m \u001b[38;5;129;01mnot\u001b[39;00m \u001b[38;5;28mself\u001b[39m\u001b[38;5;241m.\u001b[39mdata\u001b[38;5;241m.\u001b[39mget(\u001b[38;5;124m'\u001b[39m\u001b[38;5;124mwikibase\u001b[39m\u001b[38;5;124m'\u001b[39m):\n\u001b[0;32m    525\u001b[0m     \u001b[38;5;28mself\u001b[39m\u001b[38;5;241m.\u001b[39mskip_action(\u001b[38;5;124m'\u001b[39m\u001b[38;5;124mwikidata\u001b[39m\u001b[38;5;124m'\u001b[39m)\n\u001b[1;32m--> 527\u001b[0m \u001b[38;5;28;43mself\u001b[39;49m\u001b[38;5;241;43m.\u001b[39;49m\u001b[43mget_wikidata\u001b[49m\u001b[43m(\u001b[49m\u001b[38;5;28;43;01mFalse\u001b[39;49;00m\u001b[43m,\u001b[49m\u001b[43m \u001b[49m\u001b[43mproxy\u001b[49m\u001b[43m,\u001b[49m\u001b[43m \u001b[49m\u001b[43mtimeout\u001b[49m\u001b[43m)\u001b[49m\n\u001b[0;32m    529\u001b[0m \u001b[38;5;28mself\u001b[39m\u001b[38;5;241m.\u001b[39mflags[\u001b[38;5;124m'\u001b[39m\u001b[38;5;124mdefer_imageinfo\u001b[39m\u001b[38;5;124m'\u001b[39m] \u001b[38;5;241m=\u001b[39m \u001b[38;5;28;01mFalse\u001b[39;00m\n\u001b[0;32m    531\u001b[0m wiki \u001b[38;5;241m=\u001b[39m \u001b[38;5;28mself\u001b[39m\u001b[38;5;241m.\u001b[39mparams\u001b[38;5;241m.\u001b[39mget(\u001b[38;5;124m'\u001b[39m\u001b[38;5;124mwiki\u001b[39m\u001b[38;5;124m'\u001b[39m)\n",
      "File \u001b[1;32m~\\anaconda3\\lib\\site-packages\\wptools\\wikidata.py:327\u001b[0m, in \u001b[0;36mWPToolsWikidata.get_wikidata\u001b[1;34m(self, show, proxy, timeout)\u001b[0m\n\u001b[0;32m    324\u001b[0m     err \u001b[38;5;241m=\u001b[39m \u001b[38;5;124m\"\u001b[39m\u001b[38;5;124mget_wikidata needs wikibase or title\u001b[39m\u001b[38;5;124m\"\u001b[39m\n\u001b[0;32m    325\u001b[0m     \u001b[38;5;28;01mraise\u001b[39;00m \u001b[38;5;167;01mLookupError\u001b[39;00m(err)\n\u001b[1;32m--> 327\u001b[0m \u001b[38;5;28;43mself\u001b[39;49m\u001b[38;5;241;43m.\u001b[39;49m\u001b[43m_get\u001b[49m\u001b[43m(\u001b[49m\u001b[38;5;124;43m'\u001b[39;49m\u001b[38;5;124;43mwikidata\u001b[39;49m\u001b[38;5;124;43m'\u001b[39;49m\u001b[43m,\u001b[49m\u001b[43m \u001b[49m\u001b[43mshow\u001b[49m\u001b[43m,\u001b[49m\u001b[43m \u001b[49m\u001b[43mproxy\u001b[49m\u001b[43m,\u001b[49m\u001b[43m \u001b[49m\u001b[43mtimeout\u001b[49m\u001b[43m)\u001b[49m\n\u001b[0;32m    329\u001b[0m \u001b[38;5;28;01mreturn\u001b[39;00m \u001b[38;5;28mself\u001b[39m\n",
      "File \u001b[1;32m~\\anaconda3\\lib\\site-packages\\wptools\\core.py:183\u001b[0m, in \u001b[0;36mWPTools._get\u001b[1;34m(self, action, show, proxy, timeout)\u001b[0m\n\u001b[0;32m    179\u001b[0m \u001b[38;5;28mself\u001b[39m\u001b[38;5;241m.\u001b[39mcache[action][\u001b[38;5;124m'\u001b[39m\u001b[38;5;124minfo\u001b[39m\u001b[38;5;124m'\u001b[39m] \u001b[38;5;241m=\u001b[39m req\u001b[38;5;241m.\u001b[39minfo\n\u001b[0;32m    181\u001b[0m \u001b[38;5;28mself\u001b[39m\u001b[38;5;241m.\u001b[39mdata[\u001b[38;5;124m'\u001b[39m\u001b[38;5;124mrequests\u001b[39m\u001b[38;5;124m'\u001b[39m]\u001b[38;5;241m.\u001b[39mappend(action)\n\u001b[1;32m--> 183\u001b[0m \u001b[38;5;28;43mself\u001b[39;49m\u001b[38;5;241;43m.\u001b[39;49m\u001b[43m_set_data\u001b[49m\u001b[43m(\u001b[49m\u001b[43maction\u001b[49m\u001b[43m)\u001b[49m\n\u001b[0;32m    185\u001b[0m \u001b[38;5;28;01mif\u001b[39;00m show \u001b[38;5;129;01mand\u001b[39;00m \u001b[38;5;129;01mnot\u001b[39;00m \u001b[38;5;28mself\u001b[39m\u001b[38;5;241m.\u001b[39mflags\u001b[38;5;241m.\u001b[39mget(\u001b[38;5;124m'\u001b[39m\u001b[38;5;124msilent\u001b[39m\u001b[38;5;124m'\u001b[39m):\n\u001b[0;32m    186\u001b[0m     \u001b[38;5;28mself\u001b[39m\u001b[38;5;241m.\u001b[39mshow()\n",
      "File \u001b[1;32m~\\anaconda3\\lib\\site-packages\\wptools\\page.py:211\u001b[0m, in \u001b[0;36mWPToolsPage._set_data\u001b[1;34m(self, action)\u001b[0m\n\u001b[0;32m    209\u001b[0m \u001b[38;5;28;01melif\u001b[39;00m action \u001b[38;5;241m==\u001b[39m \u001b[38;5;124m'\u001b[39m\u001b[38;5;124mwikidata\u001b[39m\u001b[38;5;124m'\u001b[39m:\n\u001b[0;32m    210\u001b[0m     \u001b[38;5;28mself\u001b[39m\u001b[38;5;241m.\u001b[39m_set_wikidata()\n\u001b[1;32m--> 211\u001b[0m     \u001b[38;5;28;43mself\u001b[39;49m\u001b[38;5;241;43m.\u001b[39;49m\u001b[43mget_labels\u001b[49m\u001b[43m(\u001b[49m\u001b[43m)\u001b[49m\n\u001b[0;32m    212\u001b[0m \u001b[38;5;28;01melif\u001b[39;00m action \u001b[38;5;241m==\u001b[39m \u001b[38;5;124m'\u001b[39m\u001b[38;5;124mrestbase\u001b[39m\u001b[38;5;124m'\u001b[39m:\n\u001b[0;32m    213\u001b[0m     \u001b[38;5;28mself\u001b[39m\u001b[38;5;241m.\u001b[39m_set_restbase_data()\n",
      "File \u001b[1;32m~\\anaconda3\\lib\\site-packages\\wptools\\wikidata.py:277\u001b[0m, in \u001b[0;36mWPToolsWikidata.get_labels\u001b[1;34m(self, show, proxy, timeout)\u001b[0m\n\u001b[0;32m    275\u001b[0m     \u001b[38;5;28;01mif\u001b[39;00m skip_flag:\n\u001b[0;32m    276\u001b[0m         \u001b[38;5;28;01mbreak\u001b[39;00m\n\u001b[1;32m--> 277\u001b[0m     \u001b[38;5;28;43mself\u001b[39;49m\u001b[38;5;241;43m.\u001b[39;49m\u001b[43m_get\u001b[49m\u001b[43m(\u001b[49m\u001b[38;5;124;43m'\u001b[39;49m\u001b[38;5;124;43mlabels\u001b[39;49m\u001b[38;5;124;43m'\u001b[39;49m\u001b[43m,\u001b[49m\u001b[43m \u001b[49m\u001b[43mshow\u001b[49m\u001b[43m,\u001b[49m\u001b[43m \u001b[49m\u001b[43mproxy\u001b[49m\u001b[43m,\u001b[49m\u001b[43m \u001b[49m\u001b[43mtimeout\u001b[49m\u001b[43m)\u001b[49m\n\u001b[0;32m    279\u001b[0m \u001b[38;5;28;01mif\u001b[39;00m \u001b[38;5;124m'\u001b[39m\u001b[38;5;124mentities\u001b[39m\u001b[38;5;124m'\u001b[39m \u001b[38;5;129;01min\u001b[39;00m \u001b[38;5;28mself\u001b[39m\u001b[38;5;241m.\u001b[39mdata:\n\u001b[0;32m    280\u001b[0m     \u001b[38;5;28;01mdel\u001b[39;00m \u001b[38;5;28mself\u001b[39m\u001b[38;5;241m.\u001b[39mdata[\u001b[38;5;124m'\u001b[39m\u001b[38;5;124mentities\u001b[39m\u001b[38;5;124m'\u001b[39m]\n",
      "File \u001b[1;32m~\\anaconda3\\lib\\site-packages\\wptools\\core.py:175\u001b[0m, in \u001b[0;36mWPTools._get\u001b[1;34m(self, action, show, proxy, timeout)\u001b[0m\n\u001b[0;32m    173\u001b[0m qstr \u001b[38;5;241m=\u001b[39m \u001b[38;5;28mself\u001b[39m\u001b[38;5;241m.\u001b[39m_query(action, qobj)\n\u001b[0;32m    174\u001b[0m req \u001b[38;5;241m=\u001b[39m \u001b[38;5;28mself\u001b[39m\u001b[38;5;241m.\u001b[39m_request(proxy, timeout)\n\u001b[1;32m--> 175\u001b[0m response \u001b[38;5;241m=\u001b[39m \u001b[43mreq\u001b[49m\u001b[38;5;241;43m.\u001b[39;49m\u001b[43mget\u001b[49m\u001b[43m(\u001b[49m\u001b[43mqstr\u001b[49m\u001b[43m,\u001b[49m\u001b[43m \u001b[49m\u001b[43mqobj\u001b[49m\u001b[38;5;241;43m.\u001b[39;49m\u001b[43mstatus\u001b[49m\u001b[43m)\u001b[49m\n\u001b[0;32m    177\u001b[0m \u001b[38;5;28mself\u001b[39m\u001b[38;5;241m.\u001b[39mcache[action][\u001b[38;5;124m'\u001b[39m\u001b[38;5;124mquery\u001b[39m\u001b[38;5;124m'\u001b[39m] \u001b[38;5;241m=\u001b[39m qstr\n\u001b[0;32m    178\u001b[0m \u001b[38;5;28mself\u001b[39m\u001b[38;5;241m.\u001b[39mcache[action][\u001b[38;5;124m'\u001b[39m\u001b[38;5;124mresponse\u001b[39m\u001b[38;5;124m'\u001b[39m] \u001b[38;5;241m=\u001b[39m response\n",
      "File \u001b[1;32m~\\anaconda3\\lib\\site-packages\\wptools\\request.py:76\u001b[0m, in \u001b[0;36mWPToolsRequest.get\u001b[1;34m(self, url, status)\u001b[0m\n\u001b[0;32m     74\u001b[0m     \u001b[38;5;28mprint\u001b[39m(\u001b[38;5;124m\"\u001b[39m\u001b[38;5;124mRequests DISABLED\u001b[39m\u001b[38;5;124m\"\u001b[39m, file\u001b[38;5;241m=\u001b[39msys\u001b[38;5;241m.\u001b[39mstderr)\n\u001b[0;32m     75\u001b[0m \u001b[38;5;28;01melse\u001b[39;00m:\n\u001b[1;32m---> 76\u001b[0m     \u001b[38;5;28;01mreturn\u001b[39;00m \u001b[38;5;28;43mself\u001b[39;49m\u001b[38;5;241;43m.\u001b[39;49m\u001b[43mcurl_perform\u001b[49m\u001b[43m(\u001b[49m\u001b[43mcrl\u001b[49m\u001b[43m)\u001b[49m\n",
      "File \u001b[1;32m~\\anaconda3\\lib\\site-packages\\wptools\\request.py:84\u001b[0m, in \u001b[0;36mWPToolsRequest.curl_perform\u001b[1;34m(self, crl)\u001b[0m\n\u001b[0;32m     82\u001b[0m bfr \u001b[38;5;241m=\u001b[39m BytesIO()\n\u001b[0;32m     83\u001b[0m crl\u001b[38;5;241m.\u001b[39msetopt(crl\u001b[38;5;241m.\u001b[39mWRITEFUNCTION, bfr\u001b[38;5;241m.\u001b[39mwrite)\n\u001b[1;32m---> 84\u001b[0m \u001b[43mcrl\u001b[49m\u001b[38;5;241;43m.\u001b[39;49m\u001b[43mperform\u001b[49m\u001b[43m(\u001b[49m\u001b[43m)\u001b[49m\n\u001b[0;32m     85\u001b[0m info \u001b[38;5;241m=\u001b[39m curl_info(crl)\n\u001b[0;32m     86\u001b[0m \u001b[38;5;28;01mif\u001b[39;00m info:\n",
      "\u001b[1;31mKeyboardInterrupt\u001b[0m: "
     ]
    }
   ],
   "source": [
    "df_list = []\n",
    "image_errors = {}\n",
    "# Make directory if it doesn't already exist\n",
    "for title in title_list_1:\n",
    "    try:\n",
    "        ranking = title_list_1.index(title) + 1\n",
    "        print(ranking)\n",
    "        page = wptools.page(title, silent=True).get()\n",
    "        # First image is usually the poster\n",
    "        images = page.data['image'][0]\n",
    "        first_image_url = images['url']\n",
    "        print(first_image_url)\n",
    "        \n",
    "        r = requests.get(first_image_url)\n",
    "        print(r.status_code)\n",
    "        print(r.headers['content-type'])\n",
    "        print(r.encoding)\n",
    "        \n",
    "        # Download movie poster image\n",
    "        i = Image.open(BytesIO(r.content))\n",
    "        #break\n",
    "        image_file_format = first_image_url.split('.')[-1]\n",
    "        i.save(folder_name + \"/\" + str(ranking) + \"_\" + title + \".\" + image_file_format)\n",
    "        # Append to list of dictionaries\n",
    "        df_list.append({'ranking': int(ranking),\n",
    "                        'title': title,\n",
    "                        'poster_url': first_image_url})\n",
    "    \n",
    "    # Not best practice to catch all exceptions but fine for this short script\n",
    "    except Exception as e:\n",
    "        print(str(ranking) + \"_\" + title + \": \" + str(e))\n",
    "        image_errors[str(ranking) + \"_\" + title] = images\n",
    "   "
   ]
  },
  {
   "cell_type": "code",
   "execution_count": 6,
   "id": "b21375ed",
   "metadata": {},
   "outputs": [
    {
     "name": "stdout",
     "output_type": "stream",
     "text": [
      "{'2_Citizen_Kane': {'kind': 'query-pageimage', 'file': 'File:Citizen Kane poster, 1941 (Style B, unrestored).jpg', 'orig': 'Citizen_Kane_poster,_1941_(Style_B,_unrestored).jpg', 'timestamp': '2020-10-26T17:51:15Z', 'size': 1608581, 'width': 2117, 'height': 3181, 'url': 'https://upload.wikimedia.org/wikipedia/commons/c/c0/Citizen_Kane_poster%2C_1941_%28Style_B%2C_unrestored%29.jpg', 'descriptionurl': 'https://commons.wikimedia.org/wiki/File:Citizen_Kane_poster,_1941_(Style_B,_unrestored).jpg', 'descriptionshorturl': 'https://commons.wikimedia.org/w/index.php?curid=85708195', 'title': 'File:Citizen Kane poster, 1941 (Style B, unrestored).jpg', 'metadata': {'DateTime': {'value': '2020-10-26 17:51:15', 'source': 'mediawiki-metadata', 'hidden': ''}, 'ObjectName': {'value': 'Citizen Kane poster, 1941 (Style B, unrestored)', 'source': 'mediawiki-metadata', 'hidden': ''}, 'CommonsMetadataExtension': {'value': 1.2, 'source': 'extension', 'hidden': ''}, 'Categories': {'value': 'Citizen Kane (1941 film)|Dorothy Comingore|Film posters of the United States, 1941|Illustrations by William Rose|Orson Welles in 1941|PD-Art (PD-US-not renewed)|PD US not renewed|Ruth Warrick', 'source': 'commons-categories', 'hidden': ''}, 'Assessments': {'value': '', 'source': 'commons-categories', 'hidden': ''}, 'ImageDescription': {'value': 'Theatrical poster for the American release of the 1941 film <i><a href=\"https://en.wikipedia.org/wiki/Citizen_Kane\" class=\"extiw\" title=\"w:Citizen Kane\">Citizen Kane</a></i>. This design is designated \"Style B\". This image is a scan of an unrestored original poster.', 'source': 'commons-desc-page'}, 'DateTimeOriginal': {'value': '1941', 'source': 'commons-desc-page'}, 'Credit': {'value': 'Scan via <a rel=\"nofollow\" class=\"external text\" href=\"https://movieposters.ha.com/itm/drama/citizen-kane-rko-1941-one-sheet-27-x-41-style-b-one-of-the-holy-grails-for-movie-poster-collectors-this-rare-sty/a/636-28780.s\">Heritage Auctions</a>. Cropped from the original image.', 'source': 'commons-desc-page', 'hidden': ''}, 'Artist': {'value': '<bdi><a href=\"https://en.wikipedia.org/wiki/en:William_Rose_(illustrator)\" class=\"extiw\" title=\"w:en:William Rose (illustrator)\"><span title=\"American film poster artist\">William Rose</span></a>\\n</bdi>', 'source': 'commons-desc-page'}, 'Permission': {'value': 'The poster included a valid copyright notice, seen at bottom left. However, the copyright for the artwork was not renewed, as was required by American copyright law to extend/maintain protection for works published 1963 or earlier. In order to maintain copyright protection, the poster would have had to be renewed 28 years after publication, in either <a rel=\"nofollow\" class=\"external text\" href=\"https://onlinebooks.library.upenn.edu/cce/1968r.html\">1968</a> or <a rel=\"nofollow\" class=\"external text\" href=\"https://onlinebooks.library.upenn.edu/cce/1969r.html\">1969</a> (see the sections for \"Artwork: Original registrations and renewals\" and refer to the links to search the copyright catalogs for those years). Because it was not renewed, copyright lapsed at that time. Note that the poster art is a distinct work from the film it represents and had to be renewed separately.', 'source': 'commons-desc-page', 'hidden': ''}, 'LicenseShortName': {'value': 'Public domain', 'source': 'commons-desc-page', 'hidden': ''}, 'UsageTerms': {'value': 'Public domain', 'source': 'commons-desc-page', 'hidden': ''}, 'AttributionRequired': {'value': 'false', 'source': 'commons-desc-page', 'hidden': ''}, 'Copyrighted': {'value': 'False', 'source': 'commons-desc-page', 'hidden': ''}, 'Restrictions': {'value': '', 'source': 'commons-desc-page', 'hidden': ''}, 'License': {'value': 'pd', 'source': 'commons-templates', 'hidden': ''}}}, '3_The_Third_Man': {'kind': 'query-pageimage', 'file': 'File:The Third Man (1949 American theatrical poster).jpg', 'orig': 'The_Third_Man_(1949_American_theatrical_poster).jpg', 'timestamp': '2020-01-08T04:25:07Z', 'size': 1689802, 'width': 1936, 'height': 2938, 'url': 'https://upload.wikimedia.org/wikipedia/commons/7/77/The_Third_Man_%281949_American_theatrical_poster%29.jpg', 'descriptionurl': 'https://commons.wikimedia.org/wiki/File:The_Third_Man_(1949_American_theatrical_poster).jpg', 'descriptionshorturl': 'https://commons.wikimedia.org/w/index.php?curid=85714336', 'title': 'File:The Third Man (1949 American theatrical poster).jpg', 'metadata': {'DateTime': {'value': '2020-01-08 04:25:07', 'source': 'mediawiki-metadata', 'hidden': ''}, 'ObjectName': {'value': 'The Third Man (1949 American theatrical poster)', 'source': 'mediawiki-metadata', 'hidden': ''}, 'CommonsMetadataExtension': {'value': 1.2, 'source': 'extension', 'hidden': ''}, 'Categories': {'value': 'Film posters of the United States, 1949|PD-Art (PD-US-not renewed)|PD US not renewed|The Third Man (1949 film)', 'source': 'commons-categories', 'hidden': ''}, 'Assessments': {'value': '', 'source': 'commons-categories', 'hidden': ''}, 'ImageDescription': {'value': 'Theatrical poster for the American release of the 1949 film <i><a href=\"https://en.wikipedia.org/wiki/The_Third_Man\" class=\"extiw\" title=\"w:The Third Man\">The Third Man</a></i>.', 'source': 'commons-desc-page'}, 'DateTimeOriginal': {'value': '1949', 'source': 'commons-desc-page'}, 'Credit': {'value': 'Scan via <a rel=\"nofollow\" class=\"external text\" href=\"https://movieposters.ha.com/itm/film-noir/the-third-man-selznick-1949-folded-very-fine-one-sheet-27-x-41-/a/7191-86683.s\">Heritage Auctions</a>. Cropped from the original image and lightly retouched to repair the torn upper-left corner.', 'source': 'commons-desc-page', 'hidden': ''}, 'Artist': {'value': '\"Copyright 1949 <a href=\"https://en.wikipedia.org/wiki/David_O._Selznick\" class=\"extiw\" title=\"w:David O. Selznick\">Selznick</a> Releasing Organization, Inc. Country of Origin U.S.A.\"', 'source': 'commons-desc-page'}, 'Permission': {'value': 'No permission is required. The poster included a valid copyright notice, as seen at bottom left. However, the copyright for the artwork was not renewed, as was required by American copyright law to extend/maintain protection for works published 1963 or earlier. In order to maintain copyright protection, the poster would have had to be renewed 28 years after publication, in either <a rel=\"nofollow\" class=\"external text\" href=\"https://onlinebooks.library.upenn.edu/cce/1976r.html\">1976</a> or <a rel=\"nofollow\" class=\"external text\" href=\"https://onlinebooks.library.upenn.edu/cce/1977r.html\">1977</a> (see the sections for \"Artwork: Original registrations and renewals\" and refer to the links to search the copyright catalogs for those years). Because it was not renewed, copyright lapsed for the poster after 1977. Note that the poster art is a distinct work from the film it represents and had to be renewed separately.', 'source': 'commons-desc-page', 'hidden': ''}, 'LicenseShortName': {'value': 'Public domain', 'source': 'commons-desc-page', 'hidden': ''}, 'UsageTerms': {'value': 'Public domain', 'source': 'commons-desc-page', 'hidden': ''}, 'AttributionRequired': {'value': 'false', 'source': 'commons-desc-page', 'hidden': ''}, 'Copyrighted': {'value': 'False', 'source': 'commons-desc-page', 'hidden': ''}, 'Restrictions': {'value': '', 'source': 'commons-desc-page', 'hidden': ''}, 'License': {'value': 'pd', 'source': 'commons-templates', 'hidden': ''}}}, '6_The_Cabinet_of_Dr._Caligari': {'kind': 'query-pageimage', 'file': 'File:The Cabinet of Dr. Caligari poster.jpg', 'orig': 'The_Cabinet_of_Dr._Caligari_poster.jpg', 'timestamp': '2019-09-29T01:32:08Z', 'size': 711018, 'width': 1280, 'height': 1725, 'url': 'https://upload.wikimedia.org/wikipedia/en/2/2f/The_Cabinet_of_Dr._Caligari_poster.jpg', 'descriptionurl': 'https://en.wikipedia.org/wiki/File:The_Cabinet_of_Dr._Caligari_poster.jpg', 'descriptionshorturl': 'https://en.wikipedia.org/w/index.php?curid=61909388', 'title': 'File:The Cabinet of Dr. Caligari poster.jpg', 'metadata': {'DateTime': {'value': '2019-09-29 01:32:08', 'source': 'mediawiki-metadata', 'hidden': ''}, 'ObjectName': {'value': 'The Cabinet of Dr. Caligari poster', 'source': 'mediawiki-metadata', 'hidden': ''}, 'CommonsMetadataExtension': {'value': 1.2, 'source': 'extension', 'hidden': ''}, 'Categories': {'value': 'All free in US media|Files deleted on Wikimedia Commons|Images published abroad that are in the public domain in the United States|Out of copyright in 2037|Wikipedia files not suitable for Commons', 'source': 'commons-categories', 'hidden': ''}, 'Assessments': {'value': '', 'source': 'commons-categories', 'hidden': ''}, 'ImageDescription': {'value': '<p>English: <span lang=\"en\"><i>Das Cabinet des Dr. Caligari</i> poster</span>; <a href=\"//en.wikipedia.org/wiki/French_language\" title=\"French language\">French</a>: <span lang=\"fr\">Affiche du film <i>Das Cabinet des Dr. Caligari</i></span>\\n</p>', 'source': 'commons-desc-page'}, 'Credit': {'value': '<p><b>Original publication</b>: 1920<br><b>Immediate source</b>: <a rel=\"nofollow\" class=\"external free\" href=\"http://blackholereviews.blogspot.fr/2012/05/cabinet-of-dr-caligari-1920-fundamental.html\">http://blackholereviews.blogspot.fr/2012/05/cabinet-of-dr-caligari-1920-fundamental.html</a>\\n</p>', 'source': 'commons-desc-page', 'hidden': ''}, 'DateTimeOriginal': {'value': '<p>1920\\n</p>', 'source': 'commons-desc-page'}, 'Artist': {'value': '<p>Atelier Ledl Bernhard<br>\\n(1895–1966)\\n</p>', 'source': 'commons-desc-page'}, 'LicenseShortName': {'value': 'PD-US', 'source': 'commons-desc-page', 'hidden': ''}, 'UsageTerms': {'value': '<a href=\"//en.wikipedia.org/wiki/Public_domain\" title=\"Public domain\">Public domain</a> in the United States', 'source': 'commons-desc-page', 'hidden': ''}, 'LicenseUrl': {'value': '//en.wikipedia.org/wiki/File:The_Cabinet_of_Dr._Caligari_poster.jpg', 'source': 'commons-desc-page', 'hidden': ''}, 'Copyrighted': {'value': 'True', 'source': 'commons-desc-page', 'hidden': ''}, 'Restrictions': {'value': '', 'source': 'commons-desc-page', 'hidden': ''}}}}\n"
     ]
    }
   ],
   "source": [
    "print(image_errors)"
   ]
  },
  {
   "cell_type": "code",
   "execution_count": 7,
   "id": "376e7838",
   "metadata": {},
   "outputs": [
    {
     "name": "stdout",
     "output_type": "stream",
     "text": [
      "https://upload.wikimedia.org/wikipedia/commons/c/c0/Citizen_Kane_poster%2C_1941_%28Style_B%2C_unrestored%29.jpg\n",
      "403\n",
      "<class 'int'>\n",
      "text/html; charset=utf-8\n",
      "utf-8\n"
     ]
    },
    {
     "ename": "OSError",
     "evalue": "[Errno 22] Invalid argument: 'https://upload.wikimedia.org/wikipedia/commons/c/c0/Citizen_Kane_poster%2C_1941_%28Style_B%2C_unrestored%29.jpg'",
     "output_type": "error",
     "traceback": [
      "\u001b[1;31m---------------------------------------------------------------------------\u001b[0m",
      "\u001b[1;31mOSError\u001b[0m                                   Traceback (most recent call last)",
      "Input \u001b[1;32mIn [7]\u001b[0m, in \u001b[0;36m<cell line: 3>\u001b[1;34m()\u001b[0m\n\u001b[0;32m     10\u001b[0m \u001b[38;5;28mprint\u001b[39m(r\u001b[38;5;241m.\u001b[39mencoding)\n\u001b[0;32m     12\u001b[0m \u001b[38;5;28;01mif\u001b[39;00m r\u001b[38;5;241m.\u001b[39mstatus_code \u001b[38;5;241m==\u001b[39m \u001b[38;5;241m403\u001b[39m:\n\u001b[1;32m---> 13\u001b[0m     \u001b[38;5;28;01mwith\u001b[39;00m \u001b[38;5;28;43mopen\u001b[39;49m\u001b[43m(\u001b[49m\u001b[43murl\u001b[49m\u001b[43m,\u001b[49m\u001b[43m \u001b[49m\u001b[43mencoding\u001b[49m\u001b[43m \u001b[49m\u001b[38;5;241;43m=\u001b[39;49m\u001b[43m \u001b[49m\u001b[38;5;124;43m'\u001b[39;49m\u001b[38;5;124;43mutf-8\u001b[39;49m\u001b[38;5;124;43m'\u001b[39;49m\u001b[43m)\u001b[49m \u001b[38;5;28;01mas\u001b[39;00m f:\n\u001b[0;32m     14\u001b[0m         re \u001b[38;5;241m=\u001b[39m f\u001b[38;5;241m.\u001b[39mread()\n\u001b[0;32m     15\u001b[0m         \u001b[38;5;28mprint\u001b[39m(re)\n",
      "\u001b[1;31mOSError\u001b[0m: [Errno 22] Invalid argument: 'https://upload.wikimedia.org/wikipedia/commons/c/c0/Citizen_Kane_poster%2C_1941_%28Style_B%2C_unrestored%29.jpg'"
     ]
    }
   ],
   "source": [
    "import urllib.request\n",
    "\n",
    "for error,req in image_errors.items():\n",
    "    url = req['url']\n",
    "    print(url)\n",
    "    r = requests.get(url, stream=True)\n",
    "    print(r.status_code)\n",
    "    print(type(r.status_code))\n",
    "    print(r.headers['content-type'])\n",
    "    print(r.encoding)\n",
    "    \n",
    "    if r.status_code == 403:\n",
    "        with open(url, encoding = 'utf-8') as f:\n",
    "            re = f.read()\n",
    "            print(re)\n",
    "\n",
    "        \n",
    "    break"
   ]
  },
  {
   "cell_type": "code",
   "execution_count": null,
   "id": "cd4a6ffe",
   "metadata": {},
   "outputs": [],
   "source": []
  },
  {
   "cell_type": "code",
   "execution_count": null,
   "id": "18bdac05",
   "metadata": {},
   "outputs": [],
   "source": []
  },
  {
   "cell_type": "code",
   "execution_count": null,
   "id": "2397a56d",
   "metadata": {},
   "outputs": [],
   "source": []
  },
  {
   "cell_type": "code",
   "execution_count": 13,
   "id": "43e51e32",
   "metadata": {},
   "outputs": [
    {
     "name": "stdout",
     "output_type": "stream",
     "text": [
      "^C\n",
      "Note: you may need to restart the kernel to use updated packages.\n"
     ]
    }
   ],
   "source": [
    "pip install pillow==3.2.0"
   ]
  },
  {
   "cell_type": "code",
   "execution_count": null,
   "id": "d5683225",
   "metadata": {},
   "outputs": [],
   "source": []
  },
  {
   "cell_type": "code",
   "execution_count": null,
   "id": "3c31cc1b",
   "metadata": {},
   "outputs": [],
   "source": []
  },
  {
   "cell_type": "code",
   "execution_count": null,
   "id": "1e7e265c",
   "metadata": {},
   "outputs": [],
   "source": []
  }
 ],
 "metadata": {
  "kernelspec": {
   "display_name": "Python 3 (ipykernel)",
   "language": "python",
   "name": "python3"
  },
  "language_info": {
   "codemirror_mode": {
    "name": "ipython",
    "version": 3
   },
   "file_extension": ".py",
   "mimetype": "text/x-python",
   "name": "python",
   "nbconvert_exporter": "python",
   "pygments_lexer": "ipython3",
   "version": "3.9.12"
  }
 },
 "nbformat": 4,
 "nbformat_minor": 5
}
